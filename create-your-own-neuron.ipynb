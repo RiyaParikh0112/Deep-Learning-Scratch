{
 "cells": [
  {
   "cell_type": "code",
   "execution_count": 1,
   "id": "b0481f3c",
   "metadata": {
    "_cell_guid": "b1076dfc-b9ad-4769-8c92-a6c4dae69d19",
    "_uuid": "8f2839f25d086af736a60e9eeb907d3b93b6e0e5",
    "execution": {
     "iopub.execute_input": "2022-07-31T12:38:10.628500Z",
     "iopub.status.busy": "2022-07-31T12:38:10.628038Z",
     "iopub.status.idle": "2022-07-31T12:38:10.645088Z",
     "shell.execute_reply": "2022-07-31T12:38:10.643827Z"
    },
    "papermill": {
     "duration": 0.023667,
     "end_time": "2022-07-31T12:38:10.647501",
     "exception": false,
     "start_time": "2022-07-31T12:38:10.623834",
     "status": "completed"
    },
    "tags": []
   },
   "outputs": [
    {
     "name": "stdout",
     "output_type": "stream",
     "text": [
      "0.610639233949222\n"
     ]
    }
   ],
   "source": [
    "#neuron --> Sum and Activation function\n",
    "import math \n",
    "\n",
    "def sigmoid(x):\n",
    "    y = 1.0/(1+math.exp(-x))\n",
    "    return y\n",
    "\n",
    "def activate(inputs,weights):\n",
    "    #perform net input\n",
    "    h=0\n",
    "    for x,w in zip(inputs,weights):\n",
    "        h +=x*w\n",
    "    #perform activation\n",
    "    return sigmoid(h)\n",
    "if __name__ == \"__main__\":\n",
    "    inputs = [.5,.3,.2]\n",
    "    weights = [.4, .7,.2]\n",
    "    output = activate(inputs, weights)\n",
    "    print(output)"
   ]
  },
  {
   "cell_type": "code",
   "execution_count": null,
   "id": "c7d3e112",
   "metadata": {
    "papermill": {
     "duration": 0.001387,
     "end_time": "2022-07-31T12:38:10.650936",
     "exception": false,
     "start_time": "2022-07-31T12:38:10.649549",
     "status": "completed"
    },
    "tags": []
   },
   "outputs": [],
   "source": []
  }
 ],
 "metadata": {
  "kernelspec": {
   "display_name": "Python 3",
   "language": "python",
   "name": "python3"
  },
  "language_info": {
   "codemirror_mode": {
    "name": "ipython",
    "version": 3
   },
   "file_extension": ".py",
   "mimetype": "text/x-python",
   "name": "python",
   "nbconvert_exporter": "python",
   "pygments_lexer": "ipython3",
   "version": "3.7.12"
  },
  "papermill": {
   "default_parameters": {},
   "duration": 10.513985,
   "end_time": "2022-07-31T12:38:11.272778",
   "environment_variables": {},
   "exception": null,
   "input_path": "__notebook__.ipynb",
   "output_path": "__notebook__.ipynb",
   "parameters": {},
   "start_time": "2022-07-31T12:38:00.758793",
   "version": "2.3.4"
  }
 },
 "nbformat": 4,
 "nbformat_minor": 5
}
